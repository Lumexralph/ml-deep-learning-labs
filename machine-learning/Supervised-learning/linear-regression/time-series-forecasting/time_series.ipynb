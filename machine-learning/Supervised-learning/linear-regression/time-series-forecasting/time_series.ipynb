{
 "cells": [
  {
   "cell_type": "code",
   "execution_count": null,
   "metadata": {},
   "outputs": [],
   "source": []
  },
  {
   "cell_type": "markdown",
   "metadata": {},
   "source": [
    "# Welcome to Time Series!\n",
    "\n",
    "Forecasting is perhaps the most common application of machine learning in the real world. Businesses forecast product demand, governments forecast economic and population growth, meteorologists forecast the weather. The understanding of things to come is a pressing need across science, government, and industry (not to mention our personal lives!), and practitioners in these fields are increasingly applying machine learning to address this need.\n",
    "\n",
    "Time series forecasting is a broad field with a long history. This course focuses on the application of modern machine learning methods to time series data with the goal of producing the most accurate predictions. The lessons in this course were inspired by winning solutions from past Kaggle forecasting competitions but will be applicable whenever accurate forecasts are a priority.\n",
    "\n",
    "After finishing this course, you'll know how to:\n",
    "\n",
    "engineer features to model the major time series components (trends, seasons, and cycles),\n",
    "visualize time series with many kinds of time series plots,\n",
    "create forecasting hybrids that combine the strengths of complementary models, and\n",
    "adapt machine learning methods to a variety of forecasting tasks.\n"
   ]
  },
  {
   "cell_type": "markdown",
   "metadata": {},
   "source": [
    "## What is a Time Series?\n",
    "The basic object of forecasting is the time series, which is a set of observations recorded over time. In forecasting applications, the observations are typically recorded with a regular frequency, like daily or monthly."
   ]
  },
  {
   "cell_type": "code",
   "execution_count": null,
   "metadata": {},
   "outputs": [],
   "source": [
    "import pandas as pd\n",
    "\n",
    "df = pd.read_csv(\n",
    "    \"../input/ts-course-data/book_sales.csv\",\n",
    "    index_col='Date',\n",
    "    parse_dates=['Date'],\n",
    ").drop('Paperback', axis=1)\n",
    "\n",
    "df.head()"
   ]
  },
  {
   "cell_type": "markdown",
   "metadata": {},
   "source": [
    "This series records the number of hardcover book sales at a retail store over 30 days. Notice that we have a single column of observations Hardcover with a time index Date."
   ]
  },
  {
   "cell_type": "markdown",
   "metadata": {},
   "source": [
    "## Linear Regression with Time Series\n",
    "For the first part of this course, we'll use the linear regression algorithm to construct forecasting models. Linear regression is widely used in practice and adapts naturally to even complex forecasting tasks.\n",
    "\n",
    "The linear regression algorithm learns how to make a weighted sum from its input features. For two features, we would have:\n",
    "\n",
    "target = weight_1 * feature_1 + weight_2 * feature_2 + bias\n",
    "During training, the regression algorithm learns values for the parameters weight_1, weight_2, and bias that best fit the target. (This algorithm is often called ordinary least squares since it chooses values that minimize the squared error between the target and the predictions.) The weights are also called regression coefficients and the bias is also called the intercept because it tells you where the graph of this function crosses the y-axis.\n",
    "\n",
    "## Time-step features\n",
    "There are two kinds of features unique to time series: time-step features and lag features.\n",
    "\n",
    "Time-step features are features we can derive directly from the time index. The most basic time-step feature is the time dummy, which counts off time steps in the series from beginning to end."
   ]
  },
  {
   "cell_type": "code",
   "execution_count": null,
   "metadata": {},
   "outputs": [],
   "source": [
    "import numpy as np\n",
    "\n",
    "df['Time'] = np.arange(len(df.index))\n",
    "\n",
    "df.head()"
   ]
  },
  {
   "cell_type": "markdown",
   "metadata": {},
   "source": [
    "Linear regression with the time dummy produces the model:\n",
    "\n",
    "`target = weight * time + bias`\n",
    "\n",
    "The time dummy then lets us fit curves to time series in a time plot, where Time forms the x-axis."
   ]
  },
  {
   "cell_type": "code",
   "execution_count": null,
   "metadata": {},
   "outputs": [],
   "source": [
    "import matplotlib.pyplot as plt\n",
    "import seaborn as sns\n",
    "plt.style.use(\"seaborn-whitegrid\")\n",
    "plt.rc(\n",
    "    \"figure\",\n",
    "    autolayout=True,\n",
    "    figsize=(11, 4),\n",
    "    titlesize=18,\n",
    "    titleweight='bold',\n",
    ")\n",
    "plt.rc(\n",
    "    \"axes\",\n",
    "    labelweight=\"bold\",\n",
    "    labelsize=\"large\",\n",
    "    titleweight=\"bold\",\n",
    "    titlesize=16,\n",
    "    titlepad=10,\n",
    ")\n",
    "%config InlineBackend.figure_format = 'retina'\n",
    "\n",
    "fig, ax = plt.subplots()\n",
    "ax.plot('Time', 'Hardcover', data=df, color='0.75')\n",
    "ax = sns.regplot(x='Time', y='Hardcover', data=df, ci=None, scatter_kws=dict(color='0.25'))\n",
    "ax.set_title('Time Plot of Hardcover Sales');"
   ]
  },
  {
   "cell_type": "markdown",
   "metadata": {},
   "source": [
    "## What is Trend?\n",
    "\n",
    "The `trend` component of a time series represents a persistent, long-term change in the mean of the series. The trend is the slowest-moving part of a series, the part representing the largest time scale of importance. In a time series of product sales, an increasing trend might be the effect of a market expansion as more people become aware of the product year by year.\n",
    "\n",
    "It might be the holiday seasons in the year that impact the sales of a product.\n",
    "\n",
    "![Some Examples](./Screenshot%202023-10-07%20at%2017.46.00.png)"
   ]
  },
  {
   "cell_type": "markdown",
   "metadata": {},
   "source": []
  },
  {
   "cell_type": "markdown",
   "metadata": {},
   "source": [
    "### Moving Average Plots\n",
    "\n",
    "To see what kind of trend a time series might have, we can use a `moving average plot`. To compute a moving average of a time series, we compute the average of the values within a sliding window of some defined width. Each point on the graph represents the average of all the values in the series that fall within the window on either side. The idea is to smooth out any short-term fluctuations in the series so that only long-term changes remain.\n",
    "\n",
    "### Engineering Trend\n",
    "\n",
    "Once we've identified the shape of the trend, we can attempt to model it using a time-step feature. We've already seen how using the time dummy itself will model a linear trend:\n",
    "\n",
    "```\n",
    "target = a * time + b\n",
    "```\n",
    "We can fit many other kinds of trend through transformations of the time dummy. If the trend appears to be quadratic (a parabola), we just need to add the square of the time dummy to the feature set, giving us:\n",
    "\n",
    "```\n",
    "target = a * time ** 2 + b * time + c\n",
    "```\n",
    "\n",
    "Linear regression will learn the coefficients a, b, and c.\n",
    "\n",
    "The trend curves in the figure below were both fit using these kinds of features and scikit-learn's `LinearRegression`:\n",
    "\n",
    "![trend curves](./Screenshot%202023-10-07%20at%2017.57.57.png)\n",
    "\n"
   ]
  },
  {
   "cell_type": "markdown",
   "metadata": {},
   "source": [
    "If you haven't seen the trick before, you may not have realized that linear regression can fit curves other than lines. The idea is that if you can provide curves of the appropriate shape as features, then linear regression can learn how to combine them in the way that best fits the target.\n",
    "\n",
    "### Example - Tunnel Traffic\n",
    "In this example we'll create a trend model for the Tunnel Traffic dataset.\n",
    "\n",
    "Let's make a moving average plot to see what kind of trend this series has. Since this series has daily observations, let's choose a window of 365 days to smooth over any short-term changes within the year.\n",
    "\n",
    "To create a moving average, first use the `rolling` method to begin a windowed computation. Follow this by the mean method to compute the average over the window. As we can see, the trend of Tunnel Traffic appears to be about linear."
   ]
  },
  {
   "cell_type": "code",
   "execution_count": null,
   "metadata": {},
   "outputs": [],
   "source": [
    "moving_average = tunnel.rolling(\n",
    "    window=365,       # 365-day window\n",
    "    center=True,      # puts the average at the center of the window\n",
    "    min_periods=183,  # choose about half the window size\n",
    ").mean()              # compute the mean (could also do median, std, min, max, ...)\n",
    "\n",
    "ax = tunnel.plot(style=\".\", color=\"0.5\")\n",
    "moving_average.plot(\n",
    "    ax=ax, linewidth=3, title=\"Tunnel Traffic - 365-Day Moving Average\", legend=False,\n",
    ");"
   ]
  },
  {
   "cell_type": "markdown",
   "metadata": {},
   "source": [
    "In Lesson 1, we engineered our time dummy in Pandas directly. From now on, however, we'll use a function from the `statsmodels` library called `DeterministicProcess`. Using this function will help us avoid some tricky failure cases that can arise with time series and linear regression. The order argument refers to polynomial order: 1 for linear, 2 for quadratic, 3 for cubic, and so on."
   ]
  },
  {
   "cell_type": "code",
   "execution_count": null,
   "metadata": {},
   "outputs": [],
   "source": [
    "from statsmodels.tsa.deterministic import DeterministicProcess\n",
    "\n",
    "dp = DeterministicProcess(\n",
    "    index=tunnel.index,  # dates from the training data\n",
    "    constant=True,       # dummy feature for the bias (y_intercept)\n",
    "    order=1,             # the time dummy (trend)\n",
    "    drop=True,           # drop terms if necessary to avoid collinearity\n",
    ")\n",
    "# `in_sample` creates features for the dates given in the `index` argument\n",
    "X = dp.in_sample()\n",
    "\n",
    "X.head()"
   ]
  },
  {
   "cell_type": "code",
   "execution_count": null,
   "metadata": {},
   "outputs": [],
   "source": [
    "(A deterministic process, by the way, is a technical term for a time series that is non-random or completely determined, like the const and trend series are. Features derived from the time index will generally be deterministic.)\n",
    "\n",
    "We create our trend model basically as before, though note the addition of the `fit_intercept=False` argument."
   ]
  },
  {
   "cell_type": "code",
   "execution_count": null,
   "metadata": {},
   "outputs": [],
   "source": [
    "from sklearn.linear_model import LinearRegression\n",
    "from pathlib import Path\n",
    "from warnings import simplefilter\n",
    "\n",
    "import matplotlib.pyplot as plt\n",
    "import numpy as np\n",
    "import pandas as pd\n",
    "\n",
    "simplefilter(\"ignore\")  # ignore warnings to clean up output cells\n",
    "\n",
    "# Set Matplotlib defaults\n",
    "plt.style.use(\"seaborn-whitegrid\")\n",
    "plt.rc(\"figure\", autolayout=True, figsize=(11, 5))\n",
    "plt.rc(\n",
    "    \"axes\",\n",
    "    labelweight=\"bold\",\n",
    "    labelsize=\"large\",\n",
    "    titleweight=\"bold\",\n",
    "    titlesize=14,\n",
    "    titlepad=10,\n",
    ")\n",
    "plot_params = dict(\n",
    "    color=\"0.75\",\n",
    "    style=\".-\",\n",
    "    markeredgecolor=\"0.25\",\n",
    "    markerfacecolor=\"0.25\",\n",
    "    legend=False,\n",
    ")\n",
    "%config InlineBackend.figure_format = 'retina'\n",
    "\n",
    "# Load Tunnel Traffic dataset\n",
    "data_dir = Path(\"../input/ts-course-data\")\n",
    "tunnel = pd.read_csv(data_dir / \"tunnel.csv\", parse_dates=[\"Day\"])\n",
    "tunnel = tunnel.set_index(\"Day\").to_period()\n",
    "\n",
    "y = tunnel[\"NumVehicles\"]  # the target\n",
    "\n",
    "# The intercept is the same as the `const` feature from\n",
    "# DeterministicProcess. LinearRegression behaves badly with duplicated\n",
    "# features, so we need to be sure to exclude it here.\n",
    "model = LinearRegression(fit_intercept=False)\n",
    "model.fit(X, y)\n",
    "\n",
    "y_pred = pd.Series(model.predict(X), index=X.index)"
   ]
  },
  {
   "cell_type": "markdown",
   "metadata": {},
   "source": [
    "The trend discovered by our `LinearRegression` model is almost identical to the moving average plot, which suggests that a linear trend was the right decision in this case."
   ]
  },
  {
   "cell_type": "code",
   "execution_count": null,
   "metadata": {},
   "outputs": [],
   "source": [
    "ax = tunnel.plot(style=\".\", color=\"0.5\", title=\"Tunnel Traffic - Linear Trend\")\n",
    "_ = y_pred.plot(ax=ax, linewidth=3, label=\"Trend\")"
   ]
  },
  {
   "cell_type": "markdown",
   "metadata": {},
   "source": [
    "To make a forecast, we apply our model to \"out of sample\" features. \"Out of sample\" refers to times outside of the observation period of the training data. Here's how we could make a 30-day forecast:"
   ]
  },
  {
   "cell_type": "code",
   "execution_count": null,
   "metadata": {},
   "outputs": [],
   "source": [
    "X = dp.out_of_sample(steps=30)\n",
    "\n",
    "y_fore = pd.Series(model.predict(X), index=X.index)\n",
    "\n",
    "y_fore.head()"
   ]
  },
  {
   "cell_type": "markdown",
   "metadata": {},
   "source": [
    "Let's plot a portion of the series to see the trend forecast for the next 30 days:\n",
    "\n",
    "ax = tunnel[\"2005-05\":].plot(title=\"Tunnel Traffic - Linear Trend Forecast\", **plot_params)\n",
    "ax = y_pred[\"2005-05\":].plot(ax=ax, linewidth=3, label=\"Trend\")\n",
    "ax = y_fore.plot(ax=ax, linewidth=3, label=\"Trend Forecast\", color=\"C3\")\n",
    "_ = ax.legend()"
   ]
  },
  {
   "cell_type": "markdown",
   "metadata": {},
   "source": [
    "The trend models we learned about in this lesson turn out to be useful for a number of reasons. Besides acting as a baseline or starting point for more sophisticated models, we can also use them as a component in a \"hybrid model\" with algorithms unable to learn trends (like XGBoost and random forests)"
   ]
  },
  {
   "cell_type": "code",
   "execution_count": null,
   "metadata": {},
   "outputs": [],
   "source": []
  },
  {
   "cell_type": "markdown",
   "metadata": {},
   "source": []
  }
 ],
 "metadata": {
  "kernelspec": {
   "display_name": "Python 3",
   "language": "python",
   "name": "python3"
  },
  "language_info": {
   "name": "python",
   "version": "3.7.2"
  },
  "orig_nbformat": 4
 },
 "nbformat": 4,
 "nbformat_minor": 2
}
